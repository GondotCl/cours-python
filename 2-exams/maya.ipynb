{
 "cells": [
  {
   "cell_type": "markdown",
   "metadata": {},
   "source": [
    "## Reprise d'un sujet d'examen\n",
    "\n",
    "Le sujet traite des Piles et de Files et utilise la programmation orientée objet, le tout autour d'une base d'écriture des nombres Maya.\n",
    "\n",
    "### L'écriture Maya\n",
    "L'écriture Maya est composée de 3 *chiffres* différents : \n",
    "- la coquille pour le 0,\n",
    "- les points pour les 1,\n",
    "- les bâtons pour les 5.\n",
    "\n",
    "Chaque nombre est une empilement de chiffres (littéralement, on les écrit de bas en haut), en base 20."
   ]
  },
  {
   "cell_type": "markdown",
   "metadata": {},
   "source": [
    "### 1. Reprise de la classe Maya\n",
    "\n",
    "On utilise la P.O.O. pour représenter les nombres Maya. "
   ]
  },
  {
   "cell_type": "code",
   "execution_count": 1,
   "metadata": {},
   "outputs": [],
   "source": [
    "class Maya:\n",
    "    \n",
    "    def __init__(self):\n",
    "        self.nombre = []\n",
    "        \n",
    "    def ajouter(self, chiffre):\n",
    "        \"\"\"chiffre est une liste de longueur 3.\n",
    "        La méthode empile le chiffre au sommet de la pile\"\"\"\n",
    "        self.nombre.append(chiffre)\n",
    "        \n",
    "    def retirer(self):\n",
    "        \"\"\"dépile et renvoie le chiffre qui était au sommet de la pile.\"\"\"\n",
    "        if not self.estVide():\n",
    "            return self.nombre.pop()\n",
    "        \n",
    "    def estVide(self):\n",
    "        # return self.nombre == []\n",
    "        return len(self.nombre) == 0"
   ]
  },
  {
   "cell_type": "markdown",
   "metadata": {},
   "source": [
    "La classe **Maya** est composée de : \n",
    "- son constructeur, qui initialise un premier attribut de la classe : la liste **nombre**\n",
    "- 3 méthodes : ajouter, retirer et estVide."
   ]
  },
  {
   "cell_type": "markdown",
   "metadata": {},
   "source": [
    "#### Q.3 : Ecrire une suite d'instructions permettant de créer une instance, nommée M, de la classe Maya qui modélise le nombre entier 3435.\n",
    "\n",
    "Note : Le nombre 3435 a été convertit en écriture Maya dans une question précédente du sujet."
   ]
  },
  {
   "cell_type": "code",
   "execution_count": 5,
   "metadata": {},
   "outputs": [],
   "source": [
    "# à compléter\n",
    "M = Maya()"
   ]
  },
  {
   "cell_type": "code",
   "execution_count": 6,
   "metadata": {
    "collapsed": true,
    "jupyter": {
     "outputs_hidden": true,
     "source_hidden": true
    }
   },
   "outputs": [
    {
     "ename": "AssertionError",
     "evalue": "",
     "output_type": "error",
     "traceback": [
      "\u001b[1;31m---------------------------------------------------------------------------\u001b[0m",
      "\u001b[1;31mAssertionError\u001b[0m                            Traceback (most recent call last)",
      "Cell \u001b[1;32mIn[6], line 1\u001b[0m\n\u001b[1;32m----> 1\u001b[0m \u001b[38;5;28;01massert\u001b[39;00m M\u001b[38;5;241m.\u001b[39mnombre \u001b[38;5;241m==\u001b[39m [[\u001b[38;5;241m0\u001b[39m,\u001b[38;5;241m0\u001b[39m,\u001b[38;5;241m3\u001b[39m], [\u001b[38;5;241m0\u001b[39m,\u001b[38;5;241m1\u001b[39m,\u001b[38;5;241m2\u001b[39m], [\u001b[38;5;241m0\u001b[39m,\u001b[38;5;241m3\u001b[39m,\u001b[38;5;241m1\u001b[39m]]\n",
      "\u001b[1;31mAssertionError\u001b[0m: "
     ]
    }
   ],
   "source": [
    "\n",
    "\n",
    "assert M.nombre == [[0,0,3], [0,1,2], [0,3,1]]"
   ]
  },
  {
   "cell_type": "code",
   "execution_count": null,
   "metadata": {},
   "outputs": [],
   "source": []
  }
 ],
 "metadata": {
  "kernelspec": {
   "display_name": "Python 3 (ipykernel)",
   "language": "python",
   "name": "python3"
  },
  "language_info": {
   "codemirror_mode": {
    "name": "ipython",
    "version": 3
   },
   "file_extension": ".py",
   "mimetype": "text/x-python",
   "name": "python",
   "nbconvert_exporter": "python",
   "pygments_lexer": "ipython3",
   "version": "3.10.11"
  }
 },
 "nbformat": 4,
 "nbformat_minor": 4
}
