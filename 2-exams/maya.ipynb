{
 "cells": [
  {
   "cell_type": "markdown",
   "metadata": {},
   "source": [
    "## Reprise d'un sujet d'examen\n",
    "\n",
    "Le sujet traite des Piles et de Files et utilise la programmation orientée objet, le tout autour d'une base d'écriture des nombres Maya.\n",
    "\n",
    "### L'écriture Maya\n",
    "L'écriture Maya est composée de 3 *chiffres* différents : \n",
    "- la coquille pour le 0,\n",
    "- les points pour les 1,\n",
    "- les bâtons pour les 5.\n",
    "\n",
    "Chaque nombre est une empilement de chiffres (littéralement, on les écrit de bas en haut), en base 20."
   ]
  },
  {
   "cell_type": "markdown",
   "metadata": {},
   "source": [
    "### 1. Reprise de la classe Maya\n",
    "\n",
    "On utilise une classe personnalisée pour représenter les nombres Maya. \n",
    "\n",
    "Au fur et à mesure des questions, il faudra décommenter les méthodes à compléter et relancer le bloc."
   ]
  },
  {
   "cell_type": "code",
   "execution_count": 1,
   "metadata": {},
   "outputs": [],
   "source": [
    "def valeurChiffre(arg):\n",
    "    pass\n",
    "\n",
    "class Maya:\n",
    "    \n",
    "    def __init__(self):\n",
    "        self.nombre = []\n",
    "        \n",
    "    def ajouter(self, chiffre):\n",
    "        \"\"\"chiffre est une liste de longueur 3.\n",
    "        La méthode empile le chiffre au sommet de la pile\"\"\"\n",
    "        self.nombre.append(chiffre)\n",
    "        \n",
    "    def retirer(self):\n",
    "        \"\"\"dépile et renvoie le chiffre qui était au sommet de la pile.\"\"\"\n",
    "        if not self.estVide():\n",
    "            return self.nombre.pop()\n",
    "        \n",
    "    def estVide(self):\n",
    "        # return self.nombre == []\n",
    "        return len(self.nombre) == 0\n",
    "    \n",
    "    def nbEtages(self):\n",
    "        \"\"\"renvoie le nombre de chiffres de la pile\"\"\"\n",
    "        pass\n",
    "\n",
    "''' à sortir des guillemets au fur et à mesure des questions\n",
    "    def MayaToDec(self):\n",
    "        \"\"\"renvoie le nombre entier correspondant à la modélisation Maya de l'instance courante.\"\"\"\n",
    "        coeff = 20**...\n",
    "        ch_Dec = ...\n",
    "        while ...:\n",
    "            ch_Maya = ...\n",
    "            ch_Dec = ch_Dec + (valeurChiffre(ch_Maya)) * coeff\n",
    "            coeff = ...\n",
    "        return ch_Dec\n",
    "    \n",
    "    def multiplie(self):\n",
    "        \"\"\"renvoie le résultat de la multiplication par 20 d'un nombre en modélisation Maya.\"\"\"\n",
    "        pass\n",
    "\n",
    "    def somme(self, maya2):\n",
    "        \"\"\"ajoute maya2 à l'instance courante et renvoie le résultat en modélisation Maya\"\"\"\n",
    "        if self.nbEtages() == maya2.nbEtages():\n",
    "            ...\n",
    "'''"
   ]
  },
  {
   "cell_type": "markdown",
   "metadata": {},
   "source": [
    "La classe **Maya** est composée de : \n",
    "- son constructeur, qui initialise un premier attribut de la classe : la liste **nombre**\n",
    "- 3 méthodes : ajouter, retirer et estVide."
   ]
  },
  {
   "cell_type": "markdown",
   "metadata": {},
   "source": [
    "#### Q.3 : Ecrire une suite d'instructions permettant de créer une instance, nommée **M**, de la classe **Maya** qui modélise le nombre entier 3435.\n",
    "\n",
    "Note : Le nombre 3435 a été convertit en écriture Maya dans une question précédente du sujet.\n",
    "Réutilise les méthodes utiles !"
   ]
  },
  {
   "cell_type": "code",
   "execution_count": 5,
   "metadata": {},
   "outputs": [],
   "source": [
    "# à compléter\n"
   ]
  },
  {
   "cell_type": "code",
   "execution_count": null,
   "metadata": {
    "collapsed": true,
    "jupyter": {
     "outputs_hidden": true,
     "source_hidden": true
    }
   },
   "outputs": [],
   "source": [
    "\n",
    "# vérification\n",
    "assert M.nombre == [[0,0,3], [0,1,2], [0,3,1]]"
   ]
  },
  {
   "cell_type": "markdown",
   "metadata": {},
   "source": [
    "#### Q.4 : Ecrire la méthode **nbEtages** de la classe **Maya**. Celle-ci renvoie le nombre de \"chiffres\" utilisés pour écrire le nombre correspondant en écriture Maya\n",
    "\n",
    "A compléter dans le bloc avec la classe."
   ]
  },
  {
   "cell_type": "code",
   "execution_count": null,
   "metadata": {},
   "outputs": [],
   "source": [
    "# vérification\n",
    "assert M.nbEtages() == 3"
   ]
  },
  {
   "cell_type": "markdown",
   "metadata": {},
   "source": [
    "#### Q.5 : Compléter la fonction **valeurChiffre** ayant pour paramètre une liste **L**.\n",
    "\n",
    "Celle-ci renvoie la valeur de l'entier associé à la liste `L = [c, p, t]` où : \n",
    "- `c` (de valeur 0 ou 1) indique la présence d'une coquille ;\n",
    "- `p` indique le nombre de points ; \n",
    "- et `t` le nombre de traits\n",
    "composants un \"chiffre\" Maya."
   ]
  },
  {
   "cell_type": "code",
   "execution_count": null,
   "metadata": {},
   "outputs": [],
   "source": [
    "# vérification\n",
    "assert valeurChiffre(M.nombre[0]) == 15\n",
    "assert valeurChiffre(M.nombre[1]) == 11\n",
    "assert valeurChiffre(M.nombre[2]) == 8"
   ]
  },
  {
   "cell_type": "markdown",
   "metadata": {},
   "source": [
    "#### Q.6 : Compléter la méthode **MayaToDec** de la classe Maya.\n",
    "\n",
    "Cette méthode renvoie la valeur de l'entier associé à l'instance courante.\n",
    "\n",
    "On pourra utiliser les méthodes **estVide**, **nbEtages** et **retirer**."
   ]
  }
 ],
 "metadata": {
  "kernelspec": {
   "display_name": "Python 3 (ipykernel)",
   "language": "python",
   "name": "python3"
  },
  "language_info": {
   "codemirror_mode": {
    "name": "ipython",
    "version": 3
   },
   "file_extension": ".py",
   "mimetype": "text/x-python",
   "name": "python",
   "nbconvert_exporter": "python",
   "pygments_lexer": "ipython3",
   "version": "3.10.11"
  }
 },
 "nbformat": 4,
 "nbformat_minor": 4
}
