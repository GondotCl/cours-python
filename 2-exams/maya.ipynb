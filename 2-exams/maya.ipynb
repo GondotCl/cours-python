{
 "cells": [
  {
   "cell_type": "markdown",
   "metadata": {},
   "source": [
    "## Reprise d'un sujet d'examen\n",
    "\n",
    "Le sujet traite des Piles et de Files et utilise la programmation orientée objet, le tout autour d'une base d'écriture des nombres Maya.\n",
    "\n",
    "### L'écriture Maya\n",
    "L'écriture Maya est composée de 3 *chiffres* différents : \n",
    "- la coquille pour le 0,\n",
    "- les points pour les 1,\n",
    "- les bâtons pour les 5.\n",
    "\n",
    "Chaque nombre est une empilement de chiffres (littéralement, on les écrit de bas en haut), en base 20."
   ]
  },
  {
   "cell_type": "markdown",
   "metadata": {},
   "source": [
    "### 1. Reprise de la classe Maya\n",
    "\n",
    "On utilise la P.O.O. pour représenter les nombres Maya. "
   ]
  },
  {
   "cell_type": "code",
   "execution_count": null,
   "metadata": {},
   "outputs": [],
   "source": [
    "class Maya:\n",
    "    \n",
    "    def __init__(self):\n",
    "        self.nombre = []\n",
    "        \n",
    "    def ajouter(self, chiffre):\n",
    "        \"\"\"chiffre est une liste de longueur 3.\n",
    "        La méthode empile le chiffre au sommet de la pile\"\"\"\n",
    "        self.nombre.append(chiffre)\n",
    "        \n",
    "    def retirer(self):\n",
    "        \"\"\"dépile et renvoie le chiffre qui était au sommet de la pile.\"\"\"\n",
    "        if not self.estVide():\n",
    "            return self.nombre.pop()\n",
    "        \n",
    "    def estVide(self):\n",
    "        # return self.nombre == []\n",
    "        return len(self.nombre) == 0"
   ]
  },
  {
   "cell_type": "markdown",
   "metadata": {},
   "source": [
    "La classe **Maya** est composée de : \n",
    "- son constructeur, qui initialise un premier attribut de la classe : la liste **nombre**\n",
    "- 3 méthodes : ajouter, retirer et estVide."
   ]
  }
 ],
 "metadata": {
  "language_info": {
   "name": "python"
  }
 },
 "nbformat": 4,
 "nbformat_minor": 2
}
